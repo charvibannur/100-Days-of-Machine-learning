{
  "nbformat": 4,
  "nbformat_minor": 0,
  "metadata": {
    "colab": {
      "name": "KNN-Model.ipynb",
      "provenance": []
    },
    "kernelspec": {
      "name": "python3",
      "display_name": "Python 3"
    },
    "language_info": {
      "name": "python"
    }
  },
  "cells": [
    {
      "cell_type": "markdown",
      "metadata": {
        "id": "e6ecsrMOk_Wl"
      },
      "source": [
        "#Data Manipulation"
      ]
    },
    {
      "cell_type": "code",
      "metadata": {
        "id": "nSmeCI78lFZO"
      },
      "source": [
        "import numpy as np\n",
        "import pandas as pd"
      ],
      "execution_count": 12,
      "outputs": []
    },
    {
      "cell_type": "markdown",
      "metadata": {
        "id": "kYRaM7cPlKOb"
      },
      "source": [
        "#Plotting graphs"
      ]
    },
    {
      "cell_type": "code",
      "metadata": {
        "id": "m0zdox9hlNe0"
      },
      "source": [
        "import matplotlib.pyplot as plt"
      ],
      "execution_count": 13,
      "outputs": []
    },
    {
      "cell_type": "markdown",
      "metadata": {
        "id": "Bbx2ea8wlTws"
      },
      "source": [
        "# Machine learning libraries"
      ]
    },
    {
      "cell_type": "code",
      "metadata": {
        "id": "LoPit8W_lXT-"
      },
      "source": [
        "from sklearn.neighbors import KNeighborsClassifier\n",
        "from sklearn.metrics import accuracy_score"
      ],
      "execution_count": 14,
      "outputs": []
    },
    {
      "cell_type": "markdown",
      "metadata": {
        "id": "6jPKeVrhlm7N"
      },
      "source": [
        "#Data Fetching"
      ]
    },
    {
      "cell_type": "code",
      "metadata": {
        "colab": {
          "base_uri": "https://localhost:8080/"
        },
        "id": "O-rk8ohzl2AK",
        "outputId": "9e8164b0-76bc-4297-d11b-f48a40fe1279"
      },
      "source": [
        "!pip install yfinance"
      ],
      "execution_count": 15,
      "outputs": [
        {
          "output_type": "stream",
          "name": "stdout",
          "text": [
            "Requirement already satisfied: yfinance in /usr/local/lib/python3.7/dist-packages (0.1.64)\n",
            "Requirement already satisfied: lxml>=4.5.1 in /usr/local/lib/python3.7/dist-packages (from yfinance) (4.6.3)\n",
            "Requirement already satisfied: requests>=2.20 in /usr/local/lib/python3.7/dist-packages (from yfinance) (2.23.0)\n",
            "Requirement already satisfied: pandas>=0.24 in /usr/local/lib/python3.7/dist-packages (from yfinance) (1.3.4)\n",
            "Requirement already satisfied: numpy>=1.15 in /usr/local/lib/python3.7/dist-packages (from yfinance) (1.19.5)\n",
            "Requirement already satisfied: multitasking>=0.0.7 in /usr/local/lib/python3.7/dist-packages (from yfinance) (0.0.9)\n",
            "Requirement already satisfied: python-dateutil>=2.7.3 in /usr/local/lib/python3.7/dist-packages (from pandas>=0.24->yfinance) (2.8.2)\n",
            "Requirement already satisfied: pytz>=2017.3 in /usr/local/lib/python3.7/dist-packages (from pandas>=0.24->yfinance) (2018.9)\n",
            "Requirement already satisfied: six>=1.5 in /usr/local/lib/python3.7/dist-packages (from python-dateutil>=2.7.3->pandas>=0.24->yfinance) (1.15.0)\n",
            "Requirement already satisfied: certifi>=2017.4.17 in /usr/local/lib/python3.7/dist-packages (from requests>=2.20->yfinance) (2021.5.30)\n",
            "Requirement already satisfied: idna<3,>=2.5 in /usr/local/lib/python3.7/dist-packages (from requests>=2.20->yfinance) (2.10)\n",
            "Requirement already satisfied: urllib3!=1.25.0,!=1.25.1,<1.26,>=1.21.1 in /usr/local/lib/python3.7/dist-packages (from requests>=2.20->yfinance) (1.24.3)\n",
            "Requirement already satisfied: chardet<4,>=3.0.2 in /usr/local/lib/python3.7/dist-packages (from requests>=2.20->yfinance) (3.0.4)\n"
          ]
        }
      ]
    },
    {
      "cell_type": "code",
      "metadata": {
        "id": "7cOYzEwMlqZo"
      },
      "source": [
        "from pandas_datareader import data as pdr\n",
        "import yfinance as yf\n",
        "\n",
        "from pandas.plotting import register_matplotlib_converters\n",
        "register_matplotlib_converters()"
      ],
      "execution_count": 16,
      "outputs": []
    },
    {
      "cell_type": "markdown",
      "metadata": {
        "id": "vG3JmuWgmftU"
      },
      "source": [
        "#Fetch The Data"
      ]
    },
    {
      "cell_type": "code",
      "metadata": {
        "colab": {
          "base_uri": "https://localhost:8080/"
        },
        "id": "uY1iAbpvojKL",
        "outputId": "8d415566-0f12-4fbe-9757-b7bf2a2fd1bf"
      },
      "source": [
        "!pip install --upgrade pandas\n",
        "!pip install --upgrade pandas-datareader"
      ],
      "execution_count": 17,
      "outputs": [
        {
          "output_type": "stream",
          "name": "stdout",
          "text": [
            "Requirement already satisfied: pandas in /usr/local/lib/python3.7/dist-packages (1.3.4)\n",
            "Requirement already satisfied: pytz>=2017.3 in /usr/local/lib/python3.7/dist-packages (from pandas) (2018.9)\n",
            "Requirement already satisfied: numpy>=1.17.3 in /usr/local/lib/python3.7/dist-packages (from pandas) (1.19.5)\n",
            "Requirement already satisfied: python-dateutil>=2.7.3 in /usr/local/lib/python3.7/dist-packages (from pandas) (2.8.2)\n",
            "Requirement already satisfied: six>=1.5 in /usr/local/lib/python3.7/dist-packages (from python-dateutil>=2.7.3->pandas) (1.15.0)\n",
            "Requirement already satisfied: pandas-datareader in /usr/local/lib/python3.7/dist-packages (0.10.0)\n",
            "Requirement already satisfied: pandas>=0.23 in /usr/local/lib/python3.7/dist-packages (from pandas-datareader) (1.3.4)\n",
            "Requirement already satisfied: requests>=2.19.0 in /usr/local/lib/python3.7/dist-packages (from pandas-datareader) (2.23.0)\n",
            "Requirement already satisfied: lxml in /usr/local/lib/python3.7/dist-packages (from pandas-datareader) (4.6.3)\n",
            "Requirement already satisfied: python-dateutil>=2.7.3 in /usr/local/lib/python3.7/dist-packages (from pandas>=0.23->pandas-datareader) (2.8.2)\n",
            "Requirement already satisfied: numpy>=1.17.3 in /usr/local/lib/python3.7/dist-packages (from pandas>=0.23->pandas-datareader) (1.19.5)\n",
            "Requirement already satisfied: pytz>=2017.3 in /usr/local/lib/python3.7/dist-packages (from pandas>=0.23->pandas-datareader) (2018.9)\n",
            "Requirement already satisfied: six>=1.5 in /usr/local/lib/python3.7/dist-packages (from python-dateutil>=2.7.3->pandas>=0.23->pandas-datareader) (1.15.0)\n",
            "Requirement already satisfied: urllib3!=1.25.0,!=1.25.1,<1.26,>=1.21.1 in /usr/local/lib/python3.7/dist-packages (from requests>=2.19.0->pandas-datareader) (1.24.3)\n",
            "Requirement already satisfied: certifi>=2017.4.17 in /usr/local/lib/python3.7/dist-packages (from requests>=2.19.0->pandas-datareader) (2021.5.30)\n",
            "Requirement already satisfied: idna<3,>=2.5 in /usr/local/lib/python3.7/dist-packages (from requests>=2.19.0->pandas-datareader) (2.10)\n",
            "Requirement already satisfied: chardet<4,>=3.0.2 in /usr/local/lib/python3.7/dist-packages (from requests>=2.19.0->pandas-datareader) (3.0.4)\n"
          ]
        }
      ]
    },
    {
      "cell_type": "code",
      "metadata": {
        "colab": {
          "base_uri": "https://localhost:8080/",
          "height": 234
        },
        "id": "6isMKr1BmjZA",
        "outputId": "5fb28712-cf4a-44c9-f2b6-c14c80263146"
      },
      "source": [
        "# Read the data from Yahoo\n",
        "df = pdr.get_data_yahoo('SPY', '2012-01-01','2017-01-01')\n",
        "\n",
        "df = df.dropna()\n",
        "df = df[['Open', 'High', 'Low', 'Close']]\n",
        "df.head()"
      ],
      "execution_count": 18,
      "outputs": [
        {
          "output_type": "execute_result",
          "data": {
            "text/html": [
              "<div>\n",
              "<style scoped>\n",
              "    .dataframe tbody tr th:only-of-type {\n",
              "        vertical-align: middle;\n",
              "    }\n",
              "\n",
              "    .dataframe tbody tr th {\n",
              "        vertical-align: top;\n",
              "    }\n",
              "\n",
              "    .dataframe thead th {\n",
              "        text-align: right;\n",
              "    }\n",
              "</style>\n",
              "<table border=\"1\" class=\"dataframe\">\n",
              "  <thead>\n",
              "    <tr style=\"text-align: right;\">\n",
              "      <th></th>\n",
              "      <th>Open</th>\n",
              "      <th>High</th>\n",
              "      <th>Low</th>\n",
              "      <th>Close</th>\n",
              "    </tr>\n",
              "    <tr>\n",
              "      <th>Date</th>\n",
              "      <th></th>\n",
              "      <th></th>\n",
              "      <th></th>\n",
              "      <th></th>\n",
              "    </tr>\n",
              "  </thead>\n",
              "  <tbody>\n",
              "    <tr>\n",
              "      <th>2012-01-03</th>\n",
              "      <td>127.760002</td>\n",
              "      <td>128.380005</td>\n",
              "      <td>127.430000</td>\n",
              "      <td>127.500000</td>\n",
              "    </tr>\n",
              "    <tr>\n",
              "      <th>2012-01-04</th>\n",
              "      <td>127.199997</td>\n",
              "      <td>127.809998</td>\n",
              "      <td>126.709999</td>\n",
              "      <td>127.699997</td>\n",
              "    </tr>\n",
              "    <tr>\n",
              "      <th>2012-01-05</th>\n",
              "      <td>127.010002</td>\n",
              "      <td>128.229996</td>\n",
              "      <td>126.430000</td>\n",
              "      <td>128.039993</td>\n",
              "    </tr>\n",
              "    <tr>\n",
              "      <th>2012-01-06</th>\n",
              "      <td>128.199997</td>\n",
              "      <td>128.220001</td>\n",
              "      <td>127.290001</td>\n",
              "      <td>127.709999</td>\n",
              "    </tr>\n",
              "    <tr>\n",
              "      <th>2012-01-09</th>\n",
              "      <td>128.000000</td>\n",
              "      <td>128.179993</td>\n",
              "      <td>127.410004</td>\n",
              "      <td>128.020004</td>\n",
              "    </tr>\n",
              "  </tbody>\n",
              "</table>\n",
              "</div>"
            ],
            "text/plain": [
              "                  Open        High         Low       Close\n",
              "Date                                                      \n",
              "2012-01-03  127.760002  128.380005  127.430000  127.500000\n",
              "2012-01-04  127.199997  127.809998  126.709999  127.699997\n",
              "2012-01-05  127.010002  128.229996  126.430000  128.039993\n",
              "2012-01-06  128.199997  128.220001  127.290001  127.709999\n",
              "2012-01-09  128.000000  128.179993  127.410004  128.020004"
            ]
          },
          "metadata": {},
          "execution_count": 18
        }
      ]
    },
    {
      "cell_type": "markdown",
      "metadata": {
        "id": "3vw9HicInWcn"
      },
      "source": [
        "#Define Predictor Variable"
      ]
    },
    {
      "cell_type": "code",
      "metadata": {
        "colab": {
          "base_uri": "https://localhost:8080/",
          "height": 234
        },
        "id": "H3vW-VMTnrtc",
        "outputId": "ee7eda87-6472-48fd-cf68-c70bb54b161f"
      },
      "source": [
        "df['Open-Close'] = df.Open - df.Close\n",
        "df['High-Low'] = df.High - df.Low\n",
        "df = df.dropna()\n",
        "X = df[['Open-Close', 'High-Low']]\n",
        "X.head()"
      ],
      "execution_count": 19,
      "outputs": [
        {
          "output_type": "execute_result",
          "data": {
            "text/html": [
              "<div>\n",
              "<style scoped>\n",
              "    .dataframe tbody tr th:only-of-type {\n",
              "        vertical-align: middle;\n",
              "    }\n",
              "\n",
              "    .dataframe tbody tr th {\n",
              "        vertical-align: top;\n",
              "    }\n",
              "\n",
              "    .dataframe thead th {\n",
              "        text-align: right;\n",
              "    }\n",
              "</style>\n",
              "<table border=\"1\" class=\"dataframe\">\n",
              "  <thead>\n",
              "    <tr style=\"text-align: right;\">\n",
              "      <th></th>\n",
              "      <th>Open-Close</th>\n",
              "      <th>High-Low</th>\n",
              "    </tr>\n",
              "    <tr>\n",
              "      <th>Date</th>\n",
              "      <th></th>\n",
              "      <th></th>\n",
              "    </tr>\n",
              "  </thead>\n",
              "  <tbody>\n",
              "    <tr>\n",
              "      <th>2012-01-03</th>\n",
              "      <td>0.260002</td>\n",
              "      <td>0.950005</td>\n",
              "    </tr>\n",
              "    <tr>\n",
              "      <th>2012-01-04</th>\n",
              "      <td>-0.500000</td>\n",
              "      <td>1.099998</td>\n",
              "    </tr>\n",
              "    <tr>\n",
              "      <th>2012-01-05</th>\n",
              "      <td>-1.029991</td>\n",
              "      <td>1.799995</td>\n",
              "    </tr>\n",
              "    <tr>\n",
              "      <th>2012-01-06</th>\n",
              "      <td>0.489998</td>\n",
              "      <td>0.930000</td>\n",
              "    </tr>\n",
              "    <tr>\n",
              "      <th>2012-01-09</th>\n",
              "      <td>-0.020004</td>\n",
              "      <td>0.769989</td>\n",
              "    </tr>\n",
              "  </tbody>\n",
              "</table>\n",
              "</div>"
            ],
            "text/plain": [
              "            Open-Close  High-Low\n",
              "Date                            \n",
              "2012-01-03    0.260002  0.950005\n",
              "2012-01-04   -0.500000  1.099998\n",
              "2012-01-05   -1.029991  1.799995\n",
              "2012-01-06    0.489998  0.930000\n",
              "2012-01-09   -0.020004  0.769989"
            ]
          },
          "metadata": {},
          "execution_count": 19
        }
      ]
    },
    {
      "cell_type": "markdown",
      "metadata": {
        "id": "gHkBAargo9Vp"
      },
      "source": [
        "#Define Target Variables"
      ]
    },
    {
      "cell_type": "code",
      "metadata": {
        "id": "MDNcwIUmpBtc"
      },
      "source": [
        "Y = np.where(df['Close'].shift(-1)>df['Close'],1,-1)"
      ],
      "execution_count": 20,
      "outputs": []
    },
    {
      "cell_type": "markdown",
      "metadata": {
        "id": "U4HQ-Qqnrlo-"
      },
      "source": [
        "#Split the Dataset"
      ]
    },
    {
      "cell_type": "code",
      "metadata": {
        "id": "-CKVeIhsrpC3"
      },
      "source": [
        "split_percentage = 0.7\n",
        "split = int(split_percentage*len(df))\n",
        "\n",
        "X_train = X[:split]\n",
        "Y_train = Y[:split]\n",
        "\n",
        "X_test = X[split:]\n",
        "Y_test =Y[split:]"
      ],
      "execution_count": 21,
      "outputs": []
    },
    {
      "cell_type": "markdown",
      "metadata": {
        "id": "_mPfMGBDsZ3Z"
      },
      "source": [
        "#Instantiate KNN Model"
      ]
    },
    {
      "cell_type": "code",
      "metadata": {
        "colab": {
          "base_uri": "https://localhost:8080/"
        },
        "id": "1BIFgcResfGT",
        "outputId": "5ca4c946-f895-45d7-bde9-2171dca4a7eb"
      },
      "source": [
        "knn = KNeighborsClassifier(n_neighbors=15)\n",
        "\n",
        "#fit the model\n",
        "knn.fit(X_train,Y_train)\n",
        "\n",
        "#Accuracy Score\n",
        "accuracy_train = accuracy_score(Y_train, knn.predict(X_train))\n",
        "accuracy_test = accuracy_score(Y_test, knn.predict(X_test))\n",
        "\n",
        "print ('Train_data Accuracy: %.2f' %accuracy_train)\n",
        "print('Test_data Accuracy: %.2f' %accuracy_test)"
      ],
      "execution_count": 23,
      "outputs": [
        {
          "output_type": "stream",
          "name": "stdout",
          "text": [
            "Train_data Accuracy: 0.60\n",
            "Test_data Accuracy: 0.53\n"
          ]
        }
      ]
    },
    {
      "cell_type": "markdown",
      "metadata": {
        "id": "ZxXcUkcatn-o"
      },
      "source": [
        "#Create trading strategy using the model"
      ]
    },
    {
      "cell_type": "code",
      "metadata": {
        "colab": {
          "base_uri": "https://localhost:8080/",
          "height": 320
        },
        "id": "6-fkRS3Atr5U",
        "outputId": "19ebe55d-d289-4012-8e53-4dbe554741cb"
      },
      "source": [
        "# Predictive Signal\n",
        "df['Predicted_Signal'] = knn.predict(X)\n",
        "\n",
        "#SPY Cumulative Returns\n",
        "df['SPY_returns'] = np.log(df['Close']/df['Close'].shift(1))\n",
        "Cumulative_SPY_returns = df[split:]['SPY_returns'].cumsum()*100\n",
        "\n",
        "# Cumulative Strategy Returns \n",
        "df['Startegy_returns'] = df['SPY_returns']* df['Predicted_Signal'].shift(1)\n",
        "Cumulative_Strategy_returns = df[split:]['Startegy_returns'].cumsum()*100\n",
        "\n",
        "# Plot the results to visualize the performance\n",
        "\n",
        "plt.figure(figsize=(10,5))\n",
        "plt.plot(Cumulative_SPY_returns, color='r',label = 'SPY Returns')\n",
        "plt.plot(Cumulative_Strategy_returns, color='g', label = 'Strategy Returns')\n",
        "plt.legend()\n",
        "plt.show()"
      ],
      "execution_count": 26,
      "outputs": [
        {
          "output_type": "display_data",
          "data": {
            "image/png": "[encoded data removed]",
            "text/plain": [
              "<Figure size 720x360 with 1 Axes>"
            ]
          },
          "metadata": {
            "needs_background": "light"
          }
        }
      ]
    },
    {
      "cell_type": "markdown",
      "metadata": {
        "id": "Wajqcih0uVjO"
      },
      "source": [
        "#Sharpe Ratio"
      ]
    },
    {
      "cell_type": "code",
      "metadata": {
        "colab": {
          "base_uri": "https://localhost:8080/"
        },
        "id": "7tiijSo6uYe5",
        "outputId": "92ea59d5-29a0-4add-d8b5-89cb3bc9467f"
      },
      "source": [
        "# Calculate Sharpe ratio\n",
        "Std = Cumulative_Strategy_returns.std()\n",
        "Sharpe = (Cumulative_Strategy_returns-Cumulative_SPY_returns)/Std\n",
        "Sharpe = Sharpe.mean()\n",
        "print('Sharpe ratio: %.2f'%Sharpe )"
      ],
      "execution_count": 27,
      "outputs": [
        {
          "output_type": "stream",
          "name": "stdout",
          "text": [
            "Sharpe ratio: 1.63\n"
          ]
        }
      ]
    }
  ]
}