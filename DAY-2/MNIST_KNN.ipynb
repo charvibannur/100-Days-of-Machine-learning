{
  "nbformat": 4,
  "nbformat_minor": 0,
  "metadata": {
    "colab": {
      "name": "MNIST-KNN.ipynb",
      "provenance": []
    },
    "kernelspec": {
      "name": "python3",
      "display_name": "Python 3"
    },
    "language_info": {
      "name": "python"
    }
  },
  "cells": [
    {
      "cell_type": "code",
      "metadata": {
        "id": "1zkfj0G0UsJR"
      },
      "source": [
        "import numpy as np\n",
        "import operator \n",
        "from operator import itemgetter\n",
        "import pandas as pd"
      ],
      "execution_count": 2,
      "outputs": []
    },
    {
      "cell_type": "code",
      "metadata": {
        "id": "4wLh4JwCVFvw"
      },
      "source": [
        "def euc_dist(x1, x2):\n",
        "    return np.sqrt(np.sum((x1-x2)**2))"
      ],
      "execution_count": 5,
      "outputs": []
    },
    {
      "cell_type": "code",
      "metadata": {
        "id": "vfNOdlwSWAC9"
      },
      "source": [
        "class KNN:\n",
        "    def __init__(self, K=3):\n",
        "        self.K = K\n",
        "    def fit(self, x_train, y_train):\n",
        "        self.X_train = x_train\n",
        "        self.Y_train = y_train\n",
        "    def predict(self, X_test):\n",
        "        predictions = [] \n",
        "        for i in range(len(X_test)):\n",
        "            dist = np.array([euc_dist(X_test[i], x_t) for x_t in   \n",
        "            self.X_train])\n",
        "            dist_sorted = dist.argsort()[:self.K]\n",
        "            neigh_count = {}\n",
        "            for idx in dist_sorted:\n",
        "                if self.Y_train[idx] in neigh_count:\n",
        "                    neigh_count[self.Y_train[idx]] += 1\n",
        "                else:\n",
        "                    neigh_count[self.Y_train[idx]] = 1\n",
        "            sorted_neigh_count = sorted(neigh_count.items(),    \n",
        "            key=operator.itemgetter(1), reverse=True)\n",
        "            predictions.append(sorted_neigh_count[0][0]) \n",
        "        return predictions    "
      ],
      "execution_count": 7,
      "outputs": []
    },
    {
      "cell_type": "code",
      "metadata": {
        "colab": {
          "base_uri": "https://localhost:8080/"
        },
        "id": "Q2V_CoBeWHkP",
        "outputId": "289dec4f-90b4-4a46-84c1-22e18d919b6c"
      },
      "source": [
        "from sklearn.datasets import load_digits\n",
        "from sklearn.model_selection import train_test_split\n",
        "mnist = load_digits()\n",
        "print(mnist.data.shape)\n",
        "\n",
        "X = mnist.data \n",
        "y = mnist.target"
      ],
      "execution_count": 12,
      "outputs": [
        {
          "output_type": "stream",
          "name": "stdout",
          "text": [
            "(1797, 64)\n"
          ]
        }
      ]
    },
    {
      "cell_type": "code",
      "metadata": {
        "colab": {
          "base_uri": "https://localhost:8080/"
        },
        "id": "GH0BTuZ3WJ7C",
        "outputId": "5db50d8b-e63c-4937-9777-fe142c74b016"
      },
      "source": [
        "X_train, X_test, y_train, y_test = train_test_split(X, y, test_size=0.25, random_state=123)\n",
        "print(X_train.shape, y_train.shape)\n",
        "print(X_test.shape, y_test.shape)\n",
        "print(np.unique(y_train,return_counts=True))\n",
        "print(np.unique(y_test,return_counts=True))"
      ],
      "execution_count": 13,
      "outputs": [
        {
          "output_type": "stream",
          "name": "stdout",
          "text": [
            "(1347, 64) (1347,)\n",
            "(450, 64) (450,)\n",
            "(array([0, 1, 2, 3, 4, 5, 6, 7, 8, 9]), array([127, 140, 136, 143, 129, 134, 133, 138, 129, 138]))\n",
            "(array([0, 1, 2, 3, 4, 5, 6, 7, 8, 9]), array([51, 42, 41, 40, 52, 48, 48, 41, 45, 42]))\n"
          ]
        }
      ]
    },
    {
      "cell_type": "code",
      "metadata": {
        "id": "N4xi9j25WM3k"
      },
      "source": [
        "from sklearn.metrics import precision_recall_fscore_support\n",
        "from sklearn.metrics import accuracy_score"
      ],
      "execution_count": 14,
      "outputs": []
    },
    {
      "cell_type": "code",
      "metadata": {
        "colab": {
          "base_uri": "https://localhost:8080/"
        },
        "id": "RoSsg2dEWPb4",
        "outputId": "de39ccc2-2581-4821-d3c5-9fec6e1f7de6"
      },
      "source": [
        "kVals = np.arange(3,100,2)\n",
        "accuracies = []\n",
        "for k in kVals:\n",
        "  model = KNN(K = k)\n",
        "  model.fit(X_train, y_train)\n",
        "  pred = model.predict(X_test)\n",
        "  acc = accuracy_score(y_test, pred)\n",
        "  accuracies.append(acc)\n",
        "  print(\"K = \"+str(k)+\"; Accuracy: \"+str(acc))"
      ],
      "execution_count": 15,
      "outputs": [
        {
          "output_type": "stream",
          "name": "stdout",
          "text": [
            "K = 3; Accuracy: 0.9755555555555555\n",
            "K = 5; Accuracy: 0.9755555555555555\n",
            "K = 7; Accuracy: 0.9755555555555555\n",
            "K = 9; Accuracy: 0.9755555555555555\n",
            "K = 11; Accuracy: 0.9733333333333334\n",
            "K = 13; Accuracy: 0.9711111111111111\n",
            "K = 15; Accuracy: 0.9688888888888889\n",
            "K = 17; Accuracy: 0.9666666666666667\n",
            "K = 19; Accuracy: 0.9666666666666667\n",
            "K = 21; Accuracy: 0.9666666666666667\n",
            "K = 23; Accuracy: 0.9644444444444444\n",
            "K = 25; Accuracy: 0.9644444444444444\n",
            "K = 27; Accuracy: 0.9666666666666667\n",
            "K = 29; Accuracy: 0.9622222222222222\n",
            "K = 31; Accuracy: 0.96\n",
            "K = 33; Accuracy: 0.96\n",
            "K = 35; Accuracy: 0.9577777777777777\n",
            "K = 37; Accuracy: 0.9577777777777777\n",
            "K = 39; Accuracy: 0.9577777777777777\n",
            "K = 41; Accuracy: 0.9555555555555556\n",
            "K = 43; Accuracy: 0.9511111111111111\n",
            "K = 45; Accuracy: 0.9488888888888889\n",
            "K = 47; Accuracy: 0.9444444444444444\n",
            "K = 49; Accuracy: 0.9444444444444444\n",
            "K = 51; Accuracy: 0.9377777777777778\n",
            "K = 53; Accuracy: 0.9355555555555556\n",
            "K = 55; Accuracy: 0.9333333333333333\n",
            "K = 57; Accuracy: 0.9333333333333333\n",
            "K = 59; Accuracy: 0.9311111111111111\n",
            "K = 61; Accuracy: 0.9333333333333333\n",
            "K = 63; Accuracy: 0.9333333333333333\n",
            "K = 65; Accuracy: 0.9311111111111111\n",
            "K = 67; Accuracy: 0.9288888888888889\n",
            "K = 69; Accuracy: 0.9266666666666666\n",
            "K = 71; Accuracy: 0.9288888888888889\n",
            "K = 73; Accuracy: 0.9311111111111111\n",
            "K = 75; Accuracy: 0.9288888888888889\n",
            "K = 77; Accuracy: 0.9266666666666666\n",
            "K = 79; Accuracy: 0.92\n",
            "K = 81; Accuracy: 0.9222222222222223\n",
            "K = 83; Accuracy: 0.9222222222222223\n",
            "K = 85; Accuracy: 0.92\n",
            "K = 87; Accuracy: 0.9177777777777778\n",
            "K = 89; Accuracy: 0.9177777777777778\n",
            "K = 91; Accuracy: 0.9111111111111111\n",
            "K = 93; Accuracy: 0.9111111111111111\n",
            "K = 95; Accuracy: 0.9088888888888889\n",
            "K = 97; Accuracy: 0.9088888888888889\n",
            "K = 99; Accuracy: 0.9066666666666666\n"
          ]
        }
      ]
    },
    {
      "cell_type": "code",
      "metadata": {
        "colab": {
          "base_uri": "https://localhost:8080/"
        },
        "id": "cO9NZ5EsWRea",
        "outputId": "634bf335-1f58-428a-9998-4686699332fd"
      },
      "source": [
        "max_index = accuracies.index(max(accuracies))\n",
        "print(max_index)"
      ],
      "execution_count": 16,
      "outputs": [
        {
          "output_type": "stream",
          "name": "stdout",
          "text": [
            "0\n"
          ]
        }
      ]
    },
    {
      "cell_type": "code",
      "metadata": {
        "colab": {
          "base_uri": "https://localhost:8080/",
          "height": 297
        },
        "id": "gDWE6unZWXhs",
        "outputId": "da6534cf-2352-40df-e823-6434f6082916"
      },
      "source": [
        "from matplotlib import pyplot as plt \n",
        "plt.plot(kVals, accuracies) \n",
        "plt.xlabel(\"K Value\") \n",
        "plt.ylabel(\"Accuracy\")"
      ],
      "execution_count": 17,
      "outputs": [
        {
          "output_type": "execute_result",
          "data": {
            "text/plain": [
              "Text(0, 0.5, 'Accuracy')"
            ]
          },
          "metadata": {},
          "execution_count": 17
        },
        {
          "output_type": "display_data",
          "data": {
            "image/png": "[encoded data removed]",
            "text/plain": [
              "<Figure size 432x288 with 1 Axes>"
            ]
          },
          "metadata": {
            "needs_background": "light"
          }
        }
      ]
    },
    {
      "cell_type": "code",
      "metadata": {
        "id": "nfxsQdCmYYrF"
      },
      "source": [
        ""
      ],
      "execution_count": null,
      "outputs": []
    }
  ]
}